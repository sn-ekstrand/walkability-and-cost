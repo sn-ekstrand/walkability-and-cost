{
 "cells": [
  {
   "cell_type": "code",
   "execution_count": 1,
   "metadata": {},
   "outputs": [],
   "source": [
    "from pymongo import MongoClient\n",
    "\n",
    "client = MongoClient('localhost', 27017)\n",
    "db = client['apartments_com']\n",
    "austin_apts_table = db['austin_apartments']\n",
    "apts_pages_table = db['apartment_pages']\n",
    "\n",
    "# Import BeautifulSoup\n",
    "import pandas as pd\n",
    "import requests\n",
    "from bs4 import BeautifulSoup\n",
    "import json\n",
    "import time\n",
    "import datetime\n",
    "from pymongo import MongoClient\n",
    "import pprint"
   ]
  },
  {
   "cell_type": "code",
   "execution_count": 2,
   "metadata": {},
   "outputs": [],
   "source": [
    "# borrowed and adapted code from Chuanxiu Xiong\n",
    "# https://github.com/chuanxiuXiong/apartments.com-scraper/blob/master/scraper.py\n",
    "request_header = {\n",
    "    'User-Agent': \"Mozilla/5.0 (Windows NT 10.0; Win64; x64) AppleWebKit/537.36 (KHTML, like Gecko) Chrome/64.0.3282.140 Safari/537.36 Edge/17.17134\",\n",
    "    }"
   ]
  },
  {
   "cell_type": "code",
   "execution_count": 12,
   "metadata": {},
   "outputs": [
    {
     "data": {
      "text/plain": [
       "<pymongo.results.InsertOneResult at 0x7f74291357d0>"
      ]
     },
     "execution_count": 12,
     "metadata": {},
     "output_type": "execute_result"
    }
   ],
   "source": [
    "# Iterate through all pages for a city\n",
    "# The max number of pages appears to always be 28\n",
    "# for page in range(28):\n",
    "base_url = \"https://www.apartments.com/austin-tx/1/\"\n",
    "r = requests.get(base_url, headers=request_header)\n",
    "\n",
    "# save to mongodb\n",
    "austin_apts_table.insert_one({'page_number': 1, 'url': base_url, 'html': r.text})\n",
    "\n",
    "# time.sleep(10)\n",
    "\n",
    "# grab just the html for the specific apartments on the page\n",
    "soup = BeautifulSoup(r.text, 'html.parser')\n",
    "placards = soup.find_all('article', 'placard')\n",
    "for idx, apt in enumerate(placards):\n",
    "    tag = placards[idx]\n",
    "    sub_page_url = tag['data-url'] \n",
    "    listing_id = tag['data-listingid']\n",
    "    sub_page_html = requests.get(sub_page_url, headers=request_header)\n",
    "\n",
    "    # append sub page html to MongoDB\n",
    "    apts_pages_table.insert_one({'listing_id': listing_id, 'url': sub_page_url, 'html': sub_page_html.text})\n",
    "\n",
    "    time.sleep(10)\n",
    "\n"
   ]
  },
  {
   "cell_type": "code",
   "execution_count": null,
   "metadata": {},
   "outputs": [],
   "source": []
  }
 ],
 "metadata": {
  "kernelspec": {
   "display_name": "Python 3",
   "language": "python",
   "name": "python3"
  },
  "language_info": {
   "codemirror_mode": {
    "name": "ipython",
    "version": 3
   },
   "file_extension": ".py",
   "mimetype": "text/x-python",
   "name": "python",
   "nbconvert_exporter": "python",
   "pygments_lexer": "ipython3",
   "version": "3.7.4"
  }
 },
 "nbformat": 4,
 "nbformat_minor": 2
}
