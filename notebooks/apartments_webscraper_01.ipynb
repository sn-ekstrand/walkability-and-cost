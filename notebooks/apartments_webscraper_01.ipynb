{
 "cells": [
  {
   "cell_type": "code",
   "execution_count": 1,
   "metadata": {},
   "outputs": [],
   "source": [
    "from pymongo import MongoClient\n",
    "\n",
    "client = MongoClient('localhost', 27017)\n",
    "db = client['apartments_com']\n",
    "table = db['austin_apartments']\n",
    "\n",
    "# Import BeautifulSoup\n",
    "import pandas as pd\n",
    "import requests\n",
    "from bs4 import BeautifulSoup\n",
    "import json\n",
    "import time\n",
    "import datetime\n",
    "from pymongo import MongoClient\n",
    "import pprint\n",
    "\n"
   ]
  },
  {
   "cell_type": "code",
   "execution_count": null,
   "metadata": {},
   "outputs": [],
   "source": [
    "# borrowed and adapted code from Chuanxiu Xiong\n",
    "# https://github.com/chuanxiuXiong/apartments.com-scraper/blob/master/scraper.py\n",
    "\n",
    "request_header = {\n",
    "        'Accept': \"application/json, text/javascript, */*; q=0.01\",\n",
    "        'Accept-Encoding': \"gzip, deflate, br\",\n",
    "        'Accept-Language': \"en-US, en; q=0.8, zh-Hans-CN; q=0.5, zh-Hans; q=0.3\",\n",
    "        'Cache-Control': \"no-cache\",\n",
    "        'Content-Type': \"application/json\",\n",
    "        'Host': \"www.apartments.com\",\n",
    "        'Origin': \"https://www.apartments.com\",\n",
    "        'Referer': \"https://www.apartments.com/\",\n",
    "        'User-Agent': \"Mozilla/5.0 (Windows NT 10.0; Win64; x64) AppleWebKit/537.36 (KHTML, like Gecko) Chrome/64.0.3282.140 Safari/537.36 Edge/17.17134\",\n",
    "        'X-Requested-With': \"XMLHttpRequest\",\n",
    "        }"
   ]
  },
  {
   "cell_type": "code",
   "execution_count": 2,
   "metadata": {},
   "outputs": [],
   "source": [
    "# get the first page of apartments in Austin\n",
    "base_url = \"https://www.apartments.com/austin-tx/1/\""
   ]
  },
  {
   "cell_type": "code",
   "execution_count": 4,
   "metadata": {},
   "outputs": [],
   "source": [
    "webpage = requests.get(base_url, headers=request_header)"
   ]
  },
  {
   "cell_type": "code",
   "execution_count": null,
   "metadata": {},
   "outputs": [],
   "source": []
  }
 ],
 "metadata": {
  "kernelspec": {
   "display_name": "Python 3",
   "language": "python",
   "name": "python3"
  },
  "language_info": {
   "codemirror_mode": {
    "name": "ipython",
    "version": 3
   },
   "file_extension": ".py",
   "mimetype": "text/x-python",
   "name": "python",
   "nbconvert_exporter": "python",
   "pygments_lexer": "ipython3",
   "version": "3.7.4"
  }
 },
 "nbformat": 4,
 "nbformat_minor": 2
}
