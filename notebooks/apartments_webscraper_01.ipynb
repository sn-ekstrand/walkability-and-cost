{
 "cells": [
  {
   "cell_type": "code",
   "execution_count": 1,
   "metadata": {},
   "outputs": [],
   "source": [
    "from pymongo import MongoClient\n",
    "\n",
    "client = MongoClient('localhost', 27017)\n",
    "db = client['apartments_com']\n",
    "table = db['austin_apartments']\n",
    "\n",
    "# Import BeautifulSoup\n",
    "import pandas as pd\n",
    "import requests\n",
    "from bs4 import BeautifulSoup\n",
    "import json\n",
    "import time\n",
    "import datetime\n",
    "from pymongo import MongoClient\n",
    "import pprint\n",
    "\n"
   ]
  },
  {
   "cell_type": "code",
   "execution_count": 39,
   "metadata": {},
   "outputs": [],
   "source": [
    "# borrowed and adapted code from Chuanxiu Xiong\n",
    "# https://github.com/chuanxiuXiong/apartments.com-scraper/blob/master/scraper.py\n",
    "\n",
    "request_header = {\n",
    "#         'Accept': \"application/json, text/javascript, */*; q=0.01\",\n",
    "#         'Accept-Encoding': \"gzip, deflate, br\",\n",
    "#         'Accept-Language': \"en-US, en; q=0.8, zh-Hans-CN; q=0.5, zh-Hans; q=0.3\",\n",
    "#         'Cache-Control': \"no-cache\",\n",
    "#         'Content-Type': \"application/json\",\n",
    "#         'Host': \"www.apartments.com\",\n",
    "#         'Origin': \"https://www.apartments.com\",\n",
    "#         'Referer': \"https://www.apartments.com/\",\n",
    "        'User-Agent': \"Mozilla/5.0 (Windows NT 10.0; Win64; x64) AppleWebKit/537.36 (KHTML, like Gecko) Chrome/64.0.3282.140 Safari/537.36 Edge/17.17134\",\n",
    "#         'X-Requested-With': \"XMLHttpRequest\",\n",
    "        }"
   ]
  },
  {
   "cell_type": "code",
   "execution_count": 40,
   "metadata": {},
   "outputs": [
    {
     "data": {
      "text/plain": [
       "'\\r\\n\\r\\n<!DOCTYPE html>\\r\\n<html id=\"appContainer\" lang=\"en\" data-placeholder-focus=\"false\">\\r\\n<head>\\r\\n    <meta charset=\"utf-8\" />\\r\\n    <meta name=\"viewport\" content=\"width=device-width, initial-scale=1.0, maximum-scale=1.0, user-scalable=no\" />\\r\\n    <meta name=\"format-detection\" content=\"telephone=no\" />\\r\\n    <meta name=\"format-detection\" content=\"email=no\" />\\r\\n    <meta name=\"HandheldFriendly\" content=\"true\" />\\r\\n    <title> Apartments for Rent in Austin TX | Apartments.com</title>\\r\\n    <link rel=\"icon\" href=\"/a/8a55f9/favicon.ico\">\\r\\n        <link rel=\"canonical\" href=\"https://www.apartments.com/austin-tx/\" />\\r\\n        <meta name=\"description\" content=\"See all 24,365 apartments in Austin, TX currently available for rent. Each Apartments.com listing has verified availability, rental rates, photos, floor plans and more.\" />\\r\\n    <meta name=\"language\" content=\"en\" />\\r\\n    <meta http-equiv=\"language\" content=\"en\">\\r\\n    <meta http-equiv=\"content-language\" content=\"en-US\">\\r\\n    <meta property=\"fb'"
      ]
     },
     "execution_count": 40,
     "metadata": {},
     "output_type": "execute_result"
    }
   ],
   "source": [
    "# get the first page of apartments in Austin\n",
    "base_url = \"https://www.apartments.com/austin-tx/1/\"\n",
    "\n",
    "webpage = requests.get(base_url, headers=request_header)\n",
    "\n",
    "webpage.text[:1000]"
   ]
  },
  {
   "cell_type": "code",
   "execution_count": null,
   "metadata": {},
   "outputs": [],
   "source": []
  }
 ],
 "metadata": {
  "kernelspec": {
   "display_name": "Python 3",
   "language": "python",
   "name": "python3"
  },
  "language_info": {
   "codemirror_mode": {
    "name": "ipython",
    "version": 3
   },
   "file_extension": ".py",
   "mimetype": "text/x-python",
   "name": "python",
   "nbconvert_exporter": "python",
   "pygments_lexer": "ipython3",
   "version": "3.7.4"
  }
 },
 "nbformat": 4,
 "nbformat_minor": 2
}
