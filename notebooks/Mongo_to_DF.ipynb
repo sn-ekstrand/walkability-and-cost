{
 "cells": [
  {
   "cell_type": "code",
   "execution_count": 13,
   "metadata": {},
   "outputs": [],
   "source": [
    "import pandas as pd\n",
    "import numpy as np\n",
    "from pymongo import MongoClient\n",
    "client = MongoClient('localhost', 27017)\n",
    "import pprint\n",
    "from bs4 import BeautifulSoup\n",
    "import matplotlib.pyplot as plt\n",
    "%matplotlib inline\n",
    "plt.style.use('ggplot')"
   ]
  },
  {
   "cell_type": "code",
   "execution_count": 2,
   "metadata": {},
   "outputs": [],
   "source": [
    "# import apartment info from mongodb\n",
    "db = client['apartments']\n",
    "table = db['main_pages']"
   ]
  },
  {
   "cell_type": "code",
   "execution_count": 3,
   "metadata": {},
   "outputs": [
    {
     "data": {
      "text/plain": [
       "586"
      ]
     },
     "execution_count": 3,
     "metadata": {},
     "output_type": "execute_result"
    }
   ],
   "source": [
    "table.count_documents({})"
   ]
  },
  {
   "cell_type": "code",
   "execution_count": 4,
   "metadata": {},
   "outputs": [],
   "source": [
    "apartment_collection = table.find()"
   ]
  },
  {
   "cell_type": "code",
   "execution_count": 5,
   "metadata": {},
   "outputs": [],
   "source": [
    "#create new dataframe with just headers\n",
    "df_columns = ['listing_id', 'property_name', 'address', 'mean_rent', 'mean_area', 'walkscore']\n",
    "df = pd.DataFrame(columns=df_columns)"
   ]
  },
  {
   "cell_type": "code",
   "execution_count": 6,
   "metadata": {},
   "outputs": [
    {
     "ename": "ZeroDivisionError",
     "evalue": "division by zero",
     "output_type": "error",
     "traceback": [
      "\u001b[0;31m---------------------------------------------------------------------------\u001b[0m",
      "\u001b[0;31mZeroDivisionError\u001b[0m                         Traceback (most recent call last)",
      "\u001b[0;32m<ipython-input-6-d343731056b1>\u001b[0m in \u001b[0;36m<module>\u001b[0;34m\u001b[0m\n\u001b[1;32m     22\u001b[0m             \u001b[0;32mbreak\u001b[0m\u001b[0;34m\u001b[0m\u001b[0;34m\u001b[0m\u001b[0m\n\u001b[1;32m     23\u001b[0m \u001b[0;34m\u001b[0m\u001b[0m\n\u001b[0;32m---> 24\u001b[0;31m     \u001b[0mmean_rent\u001b[0m \u001b[0;34m=\u001b[0m \u001b[0msum\u001b[0m\u001b[0;34m(\u001b[0m\u001b[0mmax_rents\u001b[0m\u001b[0;34m)\u001b[0m \u001b[0;34m/\u001b[0m \u001b[0mlen\u001b[0m\u001b[0;34m(\u001b[0m\u001b[0mmax_rents\u001b[0m\u001b[0;34m)\u001b[0m\u001b[0;34m\u001b[0m\u001b[0;34m\u001b[0m\u001b[0m\n\u001b[0m\u001b[1;32m     25\u001b[0m \u001b[0;31m#     print(address)\u001b[0m\u001b[0;34m\u001b[0m\u001b[0;34m\u001b[0m\u001b[0;34m\u001b[0m\u001b[0m\n\u001b[1;32m     26\u001b[0m \u001b[0;31m#     print(max_rents)\u001b[0m\u001b[0;34m\u001b[0m\u001b[0;34m\u001b[0m\u001b[0;34m\u001b[0m\u001b[0m\n",
      "\u001b[0;31mZeroDivisionError\u001b[0m: division by zero"
     ]
    }
   ],
   "source": [
    "# for each apartment in collection parse html and \n",
    "# find the following info in collection \n",
    "# [name, address, price or price range, area, and Walkscore] \n",
    "# and add to Pandas DF\n",
    "for apartment in apartment_collection:\n",
    "    soup = BeautifulSoup(apartment['html'], 'html.parser')\n",
    "    \n",
    "    listing_id = apartment['listing_id']\n",
    "    property_name = soup.find('h1', 'propertyName').text.strip()\n",
    "    address_ = soup.find('div', 'propertyAddress').find('h2').text\n",
    "    address = ' '.join(address_.split())\n",
    "    \n",
    "    # iterate through each unit and find mean price and area\n",
    "    max_rents = []\n",
    "    for unit in soup.find('table', 'availabilityTable').find('tbody').find_all('tr', 'rentalGridRow'):\n",
    "        availability = unit.find('td', 'available').text.strip()\n",
    "        # only look at max rents for simplicity\n",
    "        unit_max_rent = unit['data-maxrent']\n",
    "        if (availability == 'Available Now') and (unit_max_rent != ''):\n",
    "            max_rents.append(int(unit_max_rent))\n",
    "        else:\n",
    "            break\n",
    "            \n",
    "    mean_rent = sum(max_rents) / len(max_rents)\n",
    "#     print(address)\n",
    "#     print(max_rents)\n",
    "#     print(mean_rent)\n",
    "    mean_area = 1\n",
    "    walkscore = 1\n",
    "    \n",
    "    #add info to DF\n",
    "    row = pd.DataFrame([[listing_id, \n",
    "                         property_name, \n",
    "                         address, \n",
    "                         mean_rent, \n",
    "                         mean_area, \n",
    "                         walkscore]], columns=df_columns)\n",
    "    df = df.append(row, ignore_index=True)\n",
    "    \n",
    "#     break\n",
    "    \n",
    "    "
   ]
  },
  {
   "cell_type": "code",
   "execution_count": 7,
   "metadata": {},
   "outputs": [
    {
     "data": {
      "text/html": [
       "<div>\n",
       "<style scoped>\n",
       "    .dataframe tbody tr th:only-of-type {\n",
       "        vertical-align: middle;\n",
       "    }\n",
       "\n",
       "    .dataframe tbody tr th {\n",
       "        vertical-align: top;\n",
       "    }\n",
       "\n",
       "    .dataframe thead th {\n",
       "        text-align: right;\n",
       "    }\n",
       "</style>\n",
       "<table border=\"1\" class=\"dataframe\">\n",
       "  <thead>\n",
       "    <tr style=\"text-align: right;\">\n",
       "      <th></th>\n",
       "      <th>listing_id</th>\n",
       "      <th>property_name</th>\n",
       "      <th>address</th>\n",
       "      <th>mean_rent</th>\n",
       "      <th>mean_area</th>\n",
       "      <th>walkscore</th>\n",
       "    </tr>\n",
       "  </thead>\n",
       "  <tbody>\n",
       "    <tr>\n",
       "      <td>0</td>\n",
       "      <td>p9c5ygt</td>\n",
       "      <td>Dobie Twenty21 Student Spaces</td>\n",
       "      <td>2021-2025 Guadalupe St, Austin, TX 78705</td>\n",
       "      <td>1791.500000</td>\n",
       "      <td>1</td>\n",
       "      <td>1</td>\n",
       "    </tr>\n",
       "    <tr>\n",
       "      <td>1</td>\n",
       "      <td>rdsyjd0</td>\n",
       "      <td>The District on La Frontera</td>\n",
       "      <td>2811 La Frontera Blvd, Austin, TX 78728</td>\n",
       "      <td>2130.714286</td>\n",
       "      <td>1</td>\n",
       "      <td>1</td>\n",
       "    </tr>\n",
       "    <tr>\n",
       "      <td>2</td>\n",
       "      <td>vsvz28g</td>\n",
       "      <td>Cliffs at Barton Creek</td>\n",
       "      <td>3050 Tamarron Blvd, Austin, TX 78746</td>\n",
       "      <td>2585.545455</td>\n",
       "      <td>1</td>\n",
       "      <td>1</td>\n",
       "    </tr>\n",
       "    <tr>\n",
       "      <td>3</td>\n",
       "      <td>pfzryrs</td>\n",
       "      <td>Radius On Grove</td>\n",
       "      <td>2301 Grove Blvd, Austin, TX 78741</td>\n",
       "      <td>1604.000000</td>\n",
       "      <td>1</td>\n",
       "      <td>1</td>\n",
       "    </tr>\n",
       "    <tr>\n",
       "      <td>4</td>\n",
       "      <td>lb7xscf</td>\n",
       "      <td>Chandelier</td>\n",
       "      <td>2336 Douglas St, Austin, TX 78741</td>\n",
       "      <td>1274.333333</td>\n",
       "      <td>1</td>\n",
       "      <td>1</td>\n",
       "    </tr>\n",
       "    <tr>\n",
       "      <td>...</td>\n",
       "      <td>...</td>\n",
       "      <td>...</td>\n",
       "      <td>...</td>\n",
       "      <td>...</td>\n",
       "      <td>...</td>\n",
       "      <td>...</td>\n",
       "    </tr>\n",
       "    <tr>\n",
       "      <td>62</td>\n",
       "      <td>tyhcqcc</td>\n",
       "      <td>The Nine on Shoreline</td>\n",
       "      <td>3501 Shoreline Dr, Austin, TX 78728</td>\n",
       "      <td>1631.000000</td>\n",
       "      <td>1</td>\n",
       "      <td>1</td>\n",
       "    </tr>\n",
       "    <tr>\n",
       "      <td>63</td>\n",
       "      <td>kjp9dl8</td>\n",
       "      <td>Madison at Scofield Farms</td>\n",
       "      <td>13401 Metric Blvd, Austin, TX 78727</td>\n",
       "      <td>1397.500000</td>\n",
       "      <td>1</td>\n",
       "      <td>1</td>\n",
       "    </tr>\n",
       "    <tr>\n",
       "      <td>64</td>\n",
       "      <td>f7p23ws</td>\n",
       "      <td>The Bowie</td>\n",
       "      <td>311 Bowie St, Austin, TX 78703</td>\n",
       "      <td>4798.714286</td>\n",
       "      <td>1</td>\n",
       "      <td>1</td>\n",
       "    </tr>\n",
       "    <tr>\n",
       "      <td>65</td>\n",
       "      <td>sdgb1n5</td>\n",
       "      <td>Woodway Village</td>\n",
       "      <td>4600 Nuckols Crossing Rd, Austin, TX 78744</td>\n",
       "      <td>1230.000000</td>\n",
       "      <td>1</td>\n",
       "      <td>1</td>\n",
       "    </tr>\n",
       "    <tr>\n",
       "      <td>66</td>\n",
       "      <td>6c6twrt</td>\n",
       "      <td>Ravina Apartment Homes</td>\n",
       "      <td>10301 Farm-to-Market Rd 2222 Rd, Austin, TX 78730</td>\n",
       "      <td>1460.909091</td>\n",
       "      <td>1</td>\n",
       "      <td>1</td>\n",
       "    </tr>\n",
       "  </tbody>\n",
       "</table>\n",
       "<p>67 rows × 6 columns</p>\n",
       "</div>"
      ],
      "text/plain": [
       "   listing_id                  property_name  \\\n",
       "0     p9c5ygt  Dobie Twenty21 Student Spaces   \n",
       "1     rdsyjd0    The District on La Frontera   \n",
       "2     vsvz28g         Cliffs at Barton Creek   \n",
       "3     pfzryrs                Radius On Grove   \n",
       "4     lb7xscf                     Chandelier   \n",
       "..        ...                            ...   \n",
       "62    tyhcqcc          The Nine on Shoreline   \n",
       "63    kjp9dl8      Madison at Scofield Farms   \n",
       "64    f7p23ws                      The Bowie   \n",
       "65    sdgb1n5                Woodway Village   \n",
       "66    6c6twrt         Ravina Apartment Homes   \n",
       "\n",
       "                                              address    mean_rent mean_area  \\\n",
       "0            2021-2025 Guadalupe St, Austin, TX 78705  1791.500000         1   \n",
       "1             2811 La Frontera Blvd, Austin, TX 78728  2130.714286         1   \n",
       "2                3050 Tamarron Blvd, Austin, TX 78746  2585.545455         1   \n",
       "3                   2301 Grove Blvd, Austin, TX 78741  1604.000000         1   \n",
       "4                   2336 Douglas St, Austin, TX 78741  1274.333333         1   \n",
       "..                                                ...          ...       ...   \n",
       "62                3501 Shoreline Dr, Austin, TX 78728  1631.000000         1   \n",
       "63                13401 Metric Blvd, Austin, TX 78727  1397.500000         1   \n",
       "64                     311 Bowie St, Austin, TX 78703  4798.714286         1   \n",
       "65         4600 Nuckols Crossing Rd, Austin, TX 78744  1230.000000         1   \n",
       "66  10301 Farm-to-Market Rd 2222 Rd, Austin, TX 78730  1460.909091         1   \n",
       "\n",
       "   walkscore  \n",
       "0          1  \n",
       "1          1  \n",
       "2          1  \n",
       "3          1  \n",
       "4          1  \n",
       "..       ...  \n",
       "62         1  \n",
       "63         1  \n",
       "64         1  \n",
       "65         1  \n",
       "66         1  \n",
       "\n",
       "[67 rows x 6 columns]"
      ]
     },
     "execution_count": 7,
     "metadata": {},
     "output_type": "execute_result"
    }
   ],
   "source": [
    "df"
   ]
  },
  {
   "cell_type": "code",
   "execution_count": 20,
   "metadata": {},
   "outputs": [
    {
     "data": {
      "text/plain": [
       "(array([20., 30.,  9.,  4.,  2.,  0.,  1.,  0.,  0.,  1.]),\n",
       " array([ 997.   , 1619.768, 2242.536, 2865.304, 3488.072, 4110.84 ,\n",
       "        4733.608, 5356.376, 5979.144, 6601.912, 7224.68 ]),\n",
       " <a list of 10 Patch objects>)"
      ]
     },
     "execution_count": 20,
     "metadata": {},
     "output_type": "execute_result"
    },
    {
     "data": {
      "image/png": "[encoded data removed]",
      "text/plain": [
       "<Figure size 432x288 with 1 Axes>"
      ]
     },
     "metadata": {},
     "output_type": "display_data"
    }
   ],
   "source": [
    "y = df['mean_rent']\n",
    "plt.hist(df['mean_rent'])"
   ]
  },
  {
   "cell_type": "code",
   "execution_count": null,
   "metadata": {},
   "outputs": [],
   "source": [
    "# Create column for cost/SF\n",
    "\n",
    "# Create column for some metric comparing cost/SF and Walkscore. \n",
    "# Maybe it's the ((cost/SF) / Walkscore)"
   ]
  },
  {
   "cell_type": "code",
   "execution_count": null,
   "metadata": {},
   "outputs": [],
   "source": []
  },
  {
   "cell_type": "code",
   "execution_count": null,
   "metadata": {},
   "outputs": [],
   "source": []
  }
 ],
 "metadata": {
  "kernelspec": {
   "display_name": "Python 3",
   "language": "python",
   "name": "python3"
  },
  "language_info": {
   "codemirror_mode": {
    "name": "ipython",
    "version": 3
   },
   "file_extension": ".py",
   "mimetype": "text/x-python",
   "name": "python",
   "nbconvert_exporter": "python",
   "pygments_lexer": "ipython3",
   "version": "3.7.4"
  }
 },
 "nbformat": 4,
 "nbformat_minor": 2
}
