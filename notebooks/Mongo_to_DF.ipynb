{
 "cells": [
  {
   "cell_type": "code",
   "execution_count": 1,
   "metadata": {},
   "outputs": [],
   "source": [
    "import pandas as pd\n",
    "import numpy as np\n",
    "from pymongo import MongoClient\n",
    "client = MongoClient('localhost', 27017)\n",
    "import pprint\n",
    "from bs4 import BeautifulSoup"
   ]
  },
  {
   "cell_type": "code",
   "execution_count": 2,
   "metadata": {},
   "outputs": [],
   "source": [
    "# import apartment info from mongodb\n",
    "db = client['apartments']\n",
    "table = db['main_pages']"
   ]
  },
  {
   "cell_type": "code",
   "execution_count": 3,
   "metadata": {},
   "outputs": [
    {
     "data": {
      "text/plain": [
       "586"
      ]
     },
     "execution_count": 3,
     "metadata": {},
     "output_type": "execute_result"
    }
   ],
   "source": [
    "table.count_documents({})"
   ]
  },
  {
   "cell_type": "code",
   "execution_count": 4,
   "metadata": {},
   "outputs": [],
   "source": [
    "apartment_collection = table.find()"
   ]
  },
  {
   "cell_type": "code",
   "execution_count": 56,
   "metadata": {},
   "outputs": [
    {
     "name": "stdout",
     "output_type": "stream",
     "text": [
      "1085\n",
      "1015\n",
      "1035\n",
      "1085\n",
      "2252\n",
      "2178\n",
      "2592\n",
      "2434\n",
      "2485\n",
      "2432\n",
      "2485\n",
      "3004\n",
      "2640\n",
      "2660\n",
      "2701\n",
      "2755\n",
      "2700\n",
      "2755\n",
      "2238.5\n"
     ]
    }
   ],
   "source": [
    "#create new dataframe with just headers\n",
    "\n",
    "# for each apartment in collection parse html and \n",
    "# find the following info in collection \n",
    "# [name, address, price or price range, area, and Walkscore] \n",
    "# and add to Pandas DF\n",
    "for apartment in apartment_collection:\n",
    "    soup = BeautifulSoup(apartment['html'], 'html.parser')\n",
    "    \n",
    "    listing_id = apartment['listing_id']\n",
    "    property_name = soup.find('h1', 'propertyName').text.strip()\n",
    "    address_ = soup.find('div', 'propertyAddress').find('h2').text\n",
    "    address = ' '.join(address_.split())\n",
    "    \n",
    "    # iterate through each unit and find mean price and area\n",
    "    max_rents = []\n",
    "    for unit in soup.find('table', 'availabilityTable').find('tbody').find_all('tr', 'rentalGridRow'):\n",
    "        availability = unit.find('td', 'available').text.strip()\n",
    "        if availability == 'Available Now':\n",
    "            # only look at max rents for simplicity\n",
    "            unit_max_rent = unit['data-maxrent']\n",
    "            max_rents.append(int(unit_max_rent))\n",
    "        else:\n",
    "            break\n",
    "    mean_rent = sum(max_rents) / len(max_rents)\n",
    "    mean_area = 0\n",
    "    break"
   ]
  },
  {
   "cell_type": "code",
   "execution_count": 55,
   "metadata": {},
   "outputs": [],
   "source": [
    "# Create column for cost/SF\n",
    "\n",
    "# Create column for some metric comparing cost/SF and Walkscore. \n",
    "# Maybe it's the ((cost/SF) / Walkscore)"
   ]
  },
  {
   "cell_type": "code",
   "execution_count": null,
   "metadata": {},
   "outputs": [],
   "source": []
  },
  {
   "cell_type": "code",
   "execution_count": null,
   "metadata": {},
   "outputs": [],
   "source": []
  }
 ],
 "metadata": {
  "kernelspec": {
   "display_name": "Python 3",
   "language": "python",
   "name": "python3"
  },
  "language_info": {
   "codemirror_mode": {
    "name": "ipython",
    "version": 3
   },
   "file_extension": ".py",
   "mimetype": "text/x-python",
   "name": "python",
   "nbconvert_exporter": "python",
   "pygments_lexer": "ipython3",
   "version": "3.7.4"
  }
 },
 "nbformat": 4,
 "nbformat_minor": 2
}
