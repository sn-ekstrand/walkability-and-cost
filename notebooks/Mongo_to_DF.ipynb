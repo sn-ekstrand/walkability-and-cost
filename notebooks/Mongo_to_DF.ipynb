{
 "cells": [
  {
   "cell_type": "code",
   "execution_count": 1,
   "metadata": {},
   "outputs": [],
   "source": [
    "import pandas as pd\n",
    "import numpy as np\n",
    "from pymongo import MongoClient\n",
    "client = MongoClient('localhost', 27017)\n",
    "import pprint\n",
    "from bs4 import BeautifulSoup"
   ]
  },
  {
   "cell_type": "code",
   "execution_count": 2,
   "metadata": {},
   "outputs": [],
   "source": [
    "# import apartment info from mongodb\n",
    "db = client['apartments']\n",
    "table = db['main_pages']"
   ]
  },
  {
   "cell_type": "code",
   "execution_count": 3,
   "metadata": {},
   "outputs": [
    {
     "data": {
      "text/plain": [
       "586"
      ]
     },
     "execution_count": 3,
     "metadata": {},
     "output_type": "execute_result"
    }
   ],
   "source": [
    "table.count_documents({})"
   ]
  },
  {
   "cell_type": "code",
   "execution_count": 4,
   "metadata": {},
   "outputs": [],
   "source": [
    "apartment_collection = table.find()"
   ]
  },
  {
   "cell_type": "code",
   "execution_count": 39,
   "metadata": {},
   "outputs": [
    {
     "name": "stdout",
     "output_type": "stream",
     "text": [
      "3701 Quick Hill Rd, Austin, TX 78728\n",
      "[2765, 2149, 2765, 2207, 2207, 3149, 2337, 2447, 3149, 4204, 3589, 3655, 4176, 4204, 3668, 3668, 4189, 3750, 3731, 4189]\n",
      "3309.9\n",
      "3701 Quick Hill Rd, Austin, TX 78728\n"
     ]
    }
   ],
   "source": [
    "#create new dataframe with just headers\n",
    "\n",
    "# for each apartment in collection parse html and \n",
    "# find the following info in collection \n",
    "# [name, address, price or price range, area, and Walkscore] \n",
    "# and add to Pandas DF\n",
    "for apartment in apartment_collection:\n",
    "    soup = BeautifulSoup(apartment['html'], 'html.parser')\n",
    "    \n",
    "    listing_id = apartment['listing_id']\n",
    "    property_name = soup.find('h1', 'propertyName').text.strip()\n",
    "    address_ = soup.find('div', 'propertyAddress').find('h2').text\n",
    "    address = ' '.join(address_.split())\n",
    "    \n",
    "    # iterate through each unit and find mean price and area\n",
    "    max_rents = []\n",
    "    for unit in soup.find('table', 'availabilityTable').find('tbody').find_all('tr', 'rentalGridRow'):\n",
    "        availability = unit.find('td', 'available').text.strip()\n",
    "        # only look at max rents for simplicity\n",
    "        unit_max_rent = unit['data-maxrent']\n",
    "        if (availability == 'Available Now') and (unit_max_rent != ''):\n",
    "            max_rents.append(int(unit_max_rent))\n",
    "        else:\n",
    "            break\n",
    "            \n",
    "    mean_rent = sum(max_rents) / len(max_rents)\n",
    "    print(address)\n",
    "    print(max_rents)\n",
    "    print(mean_rent)\n",
    "    mean_area = 0\n",
    "    break\n",
    "print(address)"
   ]
  },
  {
   "cell_type": "code",
   "execution_count": 6,
   "metadata": {},
   "outputs": [],
   "source": [
    "# Create column for cost/SF\n",
    "\n",
    "# Create column for some metric comparing cost/SF and Walkscore. \n",
    "# Maybe it's the ((cost/SF) / Walkscore)"
   ]
  },
  {
   "cell_type": "code",
   "execution_count": 7,
   "metadata": {},
   "outputs": [
    {
     "data": {
      "text/plain": [
       "'2021-2025 Guadalupe St, Austin, TX 78705'"
      ]
     },
     "execution_count": 7,
     "metadata": {},
     "output_type": "execute_result"
    }
   ],
   "source": [
    "address"
   ]
  },
  {
   "cell_type": "code",
   "execution_count": 8,
   "metadata": {},
   "outputs": [
    {
     "ename": "ZeroDivisionError",
     "evalue": "division by zero",
     "output_type": "error",
     "traceback": [
      "\u001b[0;31m---------------------------------------------------------------------------\u001b[0m",
      "\u001b[0;31mZeroDivisionError\u001b[0m                         Traceback (most recent call last)",
      "\u001b[0;32m<ipython-input-8-40ec983cf3c0>\u001b[0m in \u001b[0;36m<module>\u001b[0;34m\u001b[0m\n\u001b[1;32m      1\u001b[0m \u001b[0mlst\u001b[0m \u001b[0;34m=\u001b[0m \u001b[0;34m[\u001b[0m\u001b[0;34m]\u001b[0m\u001b[0;34m\u001b[0m\u001b[0;34m\u001b[0m\u001b[0m\n\u001b[0;32m----> 2\u001b[0;31m \u001b[0msum\u001b[0m\u001b[0;34m(\u001b[0m\u001b[0mlst\u001b[0m\u001b[0;34m)\u001b[0m \u001b[0;34m/\u001b[0m \u001b[0mlen\u001b[0m\u001b[0;34m(\u001b[0m\u001b[0mlst\u001b[0m\u001b[0;34m)\u001b[0m\u001b[0;34m\u001b[0m\u001b[0;34m\u001b[0m\u001b[0m\n\u001b[0m",
      "\u001b[0;31mZeroDivisionError\u001b[0m: division by zero"
     ]
    }
   ],
   "source": [
    "lst = []\n",
    "sum(lst) / len(lst)"
   ]
  },
  {
   "cell_type": "code",
   "execution_count": null,
   "metadata": {},
   "outputs": [],
   "source": []
  }
 ],
 "metadata": {
  "kernelspec": {
   "display_name": "Python 3",
   "language": "python",
   "name": "python3"
  },
  "language_info": {
   "codemirror_mode": {
    "name": "ipython",
    "version": 3
   },
   "file_extension": ".py",
   "mimetype": "text/x-python",
   "name": "python",
   "nbconvert_exporter": "python",
   "pygments_lexer": "ipython3",
   "version": "3.7.4"
  }
 },
 "nbformat": 4,
 "nbformat_minor": 2
}
