{
 "cells": [
  {
   "cell_type": "code",
   "execution_count": 1,
   "metadata": {},
   "outputs": [],
   "source": [
    "import pandas as pd\n",
    "import numpy as np\n",
    "from pymongo import MongoClient\n",
    "client = MongoClient('localhost', 27017)\n",
    "import pprint\n",
    "from bs4 import BeautifulSoup"
   ]
  },
  {
   "cell_type": "code",
   "execution_count": 2,
   "metadata": {},
   "outputs": [],
   "source": [
    "# import apartment info from mongodb\n",
    "db = client['apartments']\n",
    "table = db['main_pages']"
   ]
  },
  {
   "cell_type": "code",
   "execution_count": 3,
   "metadata": {},
   "outputs": [
    {
     "data": {
      "text/plain": [
       "586"
      ]
     },
     "execution_count": 3,
     "metadata": {},
     "output_type": "execute_result"
    }
   ],
   "source": [
    "table.count_documents({})"
   ]
  },
  {
   "cell_type": "code",
   "execution_count": 4,
   "metadata": {},
   "outputs": [],
   "source": [
    "apartment_collection = table.find()"
   ]
  },
  {
   "cell_type": "code",
   "execution_count": 11,
   "metadata": {},
   "outputs": [
    {
     "name": "stdout",
     "output_type": "stream",
     "text": [
      "110 Jacob Fontaine Lane\n"
     ]
    }
   ],
   "source": [
    "#create new dataframe with just headers\n",
    "\n",
    "# for each apartment in collection parse html and \n",
    "# find the following info in collection \n",
    "# [name, address, price or price range, and Walkscore] \n",
    "# and add to Pandas DF\n",
    "for apartment in apartment_collection:\n",
    "    soup = BeautifulSoup(apartment['html'], 'html.parser')\n",
    "    \n",
    "    listing_id = apartment['listing_id']\n",
    "    property_name = soup.find('h1', 'propertyName').text.strip()\n",
    "    address = soup.find('div', 'propertyAddress').find_all('span')[0].text\n",
    "    print(address)\n",
    "    break"
   ]
  },
  {
   "cell_type": "code",
   "execution_count": 6,
   "metadata": {},
   "outputs": [],
   "source": [
    "# Create column for cost/SF\n",
    "\n",
    "# Create column for some metric comparing cost/SF and Walkscore. \n",
    "# Maybe it's the ((cost/SF) / Walkscore)"
   ]
  },
  {
   "cell_type": "code",
   "execution_count": null,
   "metadata": {},
   "outputs": [],
   "source": []
  }
 ],
 "metadata": {
  "kernelspec": {
   "display_name": "Python 3",
   "language": "python",
   "name": "python3"
  },
  "language_info": {
   "codemirror_mode": {
    "name": "ipython",
    "version": 3
   },
   "file_extension": ".py",
   "mimetype": "text/x-python",
   "name": "python",
   "nbconvert_exporter": "python",
   "pygments_lexer": "ipython3",
   "version": "3.7.4"
  }
 },
 "nbformat": 4,
 "nbformat_minor": 2
}
