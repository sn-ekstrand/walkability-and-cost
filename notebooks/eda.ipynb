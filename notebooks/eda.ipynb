{
 "cells": [
  {
   "cell_type": "code",
   "execution_count": 4,
   "metadata": {},
   "outputs": [],
   "source": [
    "import pandas as pd\n",
    "import numpy as np\n",
    "from bs4 import BeautifulSoup\n",
    "import matplotlib.pyplot as plt\n",
    "%matplotlib inline\n",
    "plt.style.use('ggplot')"
   ]
  },
  {
   "cell_type": "code",
   "execution_count": 6,
   "metadata": {},
   "outputs": [],
   "source": [
    "# import csv as DF\n",
    "df = pd.read_csv('../data/dataframe.csv')"
   ]
  },
  {
   "cell_type": "code",
   "execution_count": 7,
   "metadata": {},
   "outputs": [
    {
     "data": {
      "text/html": [
       "<div>\n",
       "<style scoped>\n",
       "    .dataframe tbody tr th:only-of-type {\n",
       "        vertical-align: middle;\n",
       "    }\n",
       "\n",
       "    .dataframe tbody tr th {\n",
       "        vertical-align: top;\n",
       "    }\n",
       "\n",
       "    .dataframe thead th {\n",
       "        text-align: right;\n",
       "    }\n",
       "</style>\n",
       "<table border=\"1\" class=\"dataframe\">\n",
       "  <thead>\n",
       "    <tr style=\"text-align: right;\">\n",
       "      <th></th>\n",
       "      <th>Unnamed: 0</th>\n",
       "      <th>listing_id</th>\n",
       "      <th>property_name</th>\n",
       "      <th>address</th>\n",
       "      <th>mean_rent</th>\n",
       "      <th>mean_area</th>\n",
       "      <th>walkscore</th>\n",
       "      <th>cost/SF</th>\n",
       "    </tr>\n",
       "  </thead>\n",
       "  <tbody>\n",
       "    <tr>\n",
       "      <td>0</td>\n",
       "      <td>0</td>\n",
       "      <td>p9c5ygt</td>\n",
       "      <td>Dobie Twenty21 Student Spaces</td>\n",
       "      <td>2021-2025 Guadalupe St, Austin, TX 78705</td>\n",
       "      <td>1791.500000</td>\n",
       "      <td>434.750000</td>\n",
       "      <td>95</td>\n",
       "      <td>4.120759</td>\n",
       "    </tr>\n",
       "    <tr>\n",
       "      <td>1</td>\n",
       "      <td>1</td>\n",
       "      <td>rdsyjd0</td>\n",
       "      <td>The District on La Frontera</td>\n",
       "      <td>2811 La Frontera Blvd, Austin, TX 78728</td>\n",
       "      <td>2130.714286</td>\n",
       "      <td>926.142857</td>\n",
       "      <td>12</td>\n",
       "      <td>2.300632</td>\n",
       "    </tr>\n",
       "    <tr>\n",
       "      <td>2</td>\n",
       "      <td>2</td>\n",
       "      <td>vsvz28g</td>\n",
       "      <td>Cliffs at Barton Creek</td>\n",
       "      <td>3050 Tamarron Blvd, Austin, TX 78746</td>\n",
       "      <td>2585.545455</td>\n",
       "      <td>1079.772727</td>\n",
       "      <td>39</td>\n",
       "      <td>2.394527</td>\n",
       "    </tr>\n",
       "    <tr>\n",
       "      <td>3</td>\n",
       "      <td>3</td>\n",
       "      <td>pfzryrs</td>\n",
       "      <td>Radius On Grove</td>\n",
       "      <td>2301 Grove Blvd, Austin, TX 78741</td>\n",
       "      <td>1604.000000</td>\n",
       "      <td>1042.500000</td>\n",
       "      <td>34</td>\n",
       "      <td>1.538609</td>\n",
       "    </tr>\n",
       "    <tr>\n",
       "      <td>4</td>\n",
       "      <td>4</td>\n",
       "      <td>lb7xscf</td>\n",
       "      <td>Chandelier</td>\n",
       "      <td>2336 Douglas St, Austin, TX 78741</td>\n",
       "      <td>1274.333333</td>\n",
       "      <td>697.000000</td>\n",
       "      <td>47</td>\n",
       "      <td>1.828312</td>\n",
       "    </tr>\n",
       "    <tr>\n",
       "      <td>...</td>\n",
       "      <td>...</td>\n",
       "      <td>...</td>\n",
       "      <td>...</td>\n",
       "      <td>...</td>\n",
       "      <td>...</td>\n",
       "      <td>...</td>\n",
       "      <td>...</td>\n",
       "      <td>...</td>\n",
       "    </tr>\n",
       "    <tr>\n",
       "      <td>484</td>\n",
       "      <td>580</td>\n",
       "      <td>h9z6sd3</td>\n",
       "      <td>La Frontera Square Apartments</td>\n",
       "      <td>2601 La Frontera Blvd, Round Rock, TX 78681</td>\n",
       "      <td>1141.000000</td>\n",
       "      <td>709.866667</td>\n",
       "      <td>53</td>\n",
       "      <td>1.607344</td>\n",
       "    </tr>\n",
       "    <tr>\n",
       "      <td>485</td>\n",
       "      <td>582</td>\n",
       "      <td>l8esygf</td>\n",
       "      <td>300 Bowie St Unit 2904</td>\n",
       "      <td>Austin, TX 78703</td>\n",
       "      <td>1995.000000</td>\n",
       "      <td>565.000000</td>\n",
       "      <td>96</td>\n",
       "      <td>3.530973</td>\n",
       "    </tr>\n",
       "    <tr>\n",
       "      <td>486</td>\n",
       "      <td>583</td>\n",
       "      <td>w4ex40j</td>\n",
       "      <td>617 Peacock Ln</td>\n",
       "      <td>Austin, TX 78704</td>\n",
       "      <td>2950.000000</td>\n",
       "      <td>1766.000000</td>\n",
       "      <td>60</td>\n",
       "      <td>1.670442</td>\n",
       "    </tr>\n",
       "    <tr>\n",
       "      <td>487</td>\n",
       "      <td>584</td>\n",
       "      <td>6vvhrpr</td>\n",
       "      <td>6500 Adair Dr</td>\n",
       "      <td>Austin, TX 78754</td>\n",
       "      <td>1650.000000</td>\n",
       "      <td>1636.000000</td>\n",
       "      <td>3</td>\n",
       "      <td>1.008557</td>\n",
       "    </tr>\n",
       "    <tr>\n",
       "      <td>488</td>\n",
       "      <td>585</td>\n",
       "      <td>895rhe1</td>\n",
       "      <td>3212 Crosscreek Dr</td>\n",
       "      <td>Austin, TX 78757</td>\n",
       "      <td>1650.000000</td>\n",
       "      <td>1000.000000</td>\n",
       "      <td>46</td>\n",
       "      <td>1.650000</td>\n",
       "    </tr>\n",
       "  </tbody>\n",
       "</table>\n",
       "<p>489 rows × 8 columns</p>\n",
       "</div>"
      ],
      "text/plain": [
       "     Unnamed: 0 listing_id                  property_name  \\\n",
       "0             0    p9c5ygt  Dobie Twenty21 Student Spaces   \n",
       "1             1    rdsyjd0    The District on La Frontera   \n",
       "2             2    vsvz28g         Cliffs at Barton Creek   \n",
       "3             3    pfzryrs                Radius On Grove   \n",
       "4             4    lb7xscf                     Chandelier   \n",
       "..          ...        ...                            ...   \n",
       "484         580    h9z6sd3  La Frontera Square Apartments   \n",
       "485         582    l8esygf         300 Bowie St Unit 2904   \n",
       "486         583    w4ex40j                 617 Peacock Ln   \n",
       "487         584    6vvhrpr                  6500 Adair Dr   \n",
       "488         585    895rhe1             3212 Crosscreek Dr   \n",
       "\n",
       "                                         address    mean_rent    mean_area  \\\n",
       "0       2021-2025 Guadalupe St, Austin, TX 78705  1791.500000   434.750000   \n",
       "1        2811 La Frontera Blvd, Austin, TX 78728  2130.714286   926.142857   \n",
       "2           3050 Tamarron Blvd, Austin, TX 78746  2585.545455  1079.772727   \n",
       "3              2301 Grove Blvd, Austin, TX 78741  1604.000000  1042.500000   \n",
       "4              2336 Douglas St, Austin, TX 78741  1274.333333   697.000000   \n",
       "..                                           ...          ...          ...   \n",
       "484  2601 La Frontera Blvd, Round Rock, TX 78681  1141.000000   709.866667   \n",
       "485                             Austin, TX 78703  1995.000000   565.000000   \n",
       "486                             Austin, TX 78704  2950.000000  1766.000000   \n",
       "487                             Austin, TX 78754  1650.000000  1636.000000   \n",
       "488                             Austin, TX 78757  1650.000000  1000.000000   \n",
       "\n",
       "     walkscore   cost/SF  \n",
       "0           95  4.120759  \n",
       "1           12  2.300632  \n",
       "2           39  2.394527  \n",
       "3           34  1.538609  \n",
       "4           47  1.828312  \n",
       "..         ...       ...  \n",
       "484         53  1.607344  \n",
       "485         96  3.530973  \n",
       "486         60  1.670442  \n",
       "487          3  1.008557  \n",
       "488         46  1.650000  \n",
       "\n",
       "[489 rows x 8 columns]"
      ]
     },
     "execution_count": 7,
     "metadata": {},
     "output_type": "execute_result"
    }
   ],
   "source": [
    "df"
   ]
  },
  {
   "cell_type": "code",
   "execution_count": null,
   "metadata": {},
   "outputs": [],
   "source": [
    "y = df['mean_rent']\n",
    "plt.hist(df['mean_rent'], bins=50);"
   ]
  },
  {
   "cell_type": "code",
   "execution_count": 10,
   "metadata": {
    "scrolled": true
   },
   "outputs": [
    {
     "data": {
      "text/plain": [
       "<matplotlib.collections.PathCollection at 0x7f03703ee510>"
      ]
     },
     "execution_count": 10,
     "metadata": {},
     "output_type": "execute_result"
    },
    {
     "data": {
      "image/png": "[encoded data removed]",
      "text/plain": [
       "<Figure size 432x288 with 1 Axes>"
      ]
     },
     "metadata": {
      "needs_background": "light"
     },
     "output_type": "display_data"
    }
   ],
   "source": [
    "# scatter plot showing no correlation betwee rent and walkscore\n",
    "plt.scatter(df['mean_rent'], df['walkscore'])"
   ]
  },
  {
   "cell_type": "code",
   "execution_count": 11,
   "metadata": {},
   "outputs": [
    {
     "data": {
      "text/plain": [
       "<matplotlib.collections.PathCollection at 0x7f0370a13d90>"
      ]
     },
     "execution_count": 11,
     "metadata": {},
     "output_type": "execute_result"
    },
    {
     "data": {
      "image/png": "[encoded data removed]",
      "text/plain": [
       "<Figure size 432x288 with 1 Axes>"
      ]
     },
     "metadata": {
      "needs_background": "light"
     },
     "output_type": "display_data"
    }
   ],
   "source": [
    "# scatter plot maybe showing very weak negative correlation between unit area and walkscore\n",
    "plt.scatter(df['mean_area'], df['walkscore'])"
   ]
  },
  {
   "cell_type": "code",
   "execution_count": 1,
   "metadata": {},
   "outputs": [
    {
     "ename": "NameError",
     "evalue": "name 'plt' is not defined",
     "output_type": "error",
     "traceback": [
      "\u001b[0;31m---------------------------------------------------------------------------\u001b[0m",
      "\u001b[0;31mNameError\u001b[0m                                 Traceback (most recent call last)",
      "\u001b[0;32m<ipython-input-1-f0e686dd0e6e>\u001b[0m in \u001b[0;36m<module>\u001b[0;34m\u001b[0m\n\u001b[0;32m----> 1\u001b[0;31m \u001b[0mplt\u001b[0m\u001b[0;34m.\u001b[0m\u001b[0mscatter\u001b[0m\u001b[0;34m(\u001b[0m\u001b[0mdf\u001b[0m\u001b[0;34m[\u001b[0m\u001b[0;34m'cost/SF'\u001b[0m\u001b[0;34m]\u001b[0m\u001b[0;34m,\u001b[0m \u001b[0mdf\u001b[0m\u001b[0;34m[\u001b[0m\u001b[0;34m'walkscore'\u001b[0m\u001b[0;34m]\u001b[0m\u001b[0;34m)\u001b[0m\u001b[0;34m;\u001b[0m\u001b[0;34m\u001b[0m\u001b[0;34m\u001b[0m\u001b[0m\n\u001b[0m",
      "\u001b[0;31mNameError\u001b[0m: name 'plt' is not defined"
     ]
    }
   ],
   "source": [
    "plt.scatter(df['cost/SF'], df['walkscore']);"
   ]
  },
  {
   "cell_type": "code",
   "execution_count": null,
   "metadata": {},
   "outputs": [],
   "source": []
  }
 ],
 "metadata": {
  "kernelspec": {
   "display_name": "Python 3",
   "language": "python",
   "name": "python3"
  },
  "language_info": {
   "codemirror_mode": {
    "name": "ipython",
    "version": 3
   },
   "file_extension": ".py",
   "mimetype": "text/x-python",
   "name": "python",
   "nbconvert_exporter": "python",
   "pygments_lexer": "ipython3",
   "version": "3.7.4"
  }
 },
 "nbformat": 4,
 "nbformat_minor": 2
}
