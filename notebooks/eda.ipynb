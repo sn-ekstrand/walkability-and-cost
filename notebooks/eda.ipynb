{
 "cells": [
  {
   "cell_type": "code",
   "execution_count": null,
   "metadata": {},
   "outputs": [],
   "source": [
    "import pandas as pd\n",
    "import numpy as np\n",
    "import scipy.stats as stats\n",
    "import matplotlib.pyplot as plt\n",
    "%matplotlib inline\n",
    "\n",
    "import seaborn as sns\n",
    "sns.set(style='darkgrid')"
   ]
  },
  {
   "cell_type": "code",
   "execution_count": null,
   "metadata": {},
   "outputs": [],
   "source": [
    "# import csv as DF\n",
    "df = pd.read_csv('../data/dataframe.csv')"
   ]
  },
  {
   "cell_type": "code",
   "execution_count": null,
   "metadata": {},
   "outputs": [],
   "source": [
    "df"
   ]
  },
  {
   "cell_type": "code",
   "execution_count": null,
   "metadata": {},
   "outputs": [],
   "source": [
    "df['walkscore_category'] = ''\n",
    "\n",
    "def ws_cat(df):\n",
    "    str_cat = ''\n",
    "    if df['walkscore'] >= 90: \n",
    "        str_cat = \"Walker's Paradise\"\n",
    "    elif 90 > df['walkscore'] >= 70: \n",
    "        str_cat = \"Very Walkable\"\n",
    "    elif 70 > df['walkscore'] >= 50: \n",
    "        str_cat = \"Somewhat Walkable\"\n",
    "    elif 50 > df['walkscore'] >= 25:\n",
    "        str_cat = \"Car-Dependent_2\"\n",
    "    elif 25 > df['walkscore'] >= 0:\n",
    "        str_cat = \"Car-Dependent_1\"\n",
    "    return str_cat\n",
    "\n",
    "def ws_cat_num(df):\n",
    "    num_cat = 0\n",
    "    if df['walkscore'] >= 90: \n",
    "        num_cat = 5\n",
    "    elif 90 > df['walkscore'] >= 70: \n",
    "        num_cat = 4\n",
    "    elif 70 > df['walkscore'] >= 50: \n",
    "        num_cat = 3\n",
    "    elif 50 > df['walkscore'] >= 25:\n",
    "        num_cat = 2\n",
    "    elif 25 > df['walkscore'] >= 0:\n",
    "        num_cat = 1\n",
    "    return num_cat\n",
    "\n",
    "df['walkscore_category'] = df.apply(ws_cat, axis=1)\n",
    "df['walkscore_category_num'] = df.apply(ws_cat_num, axis=1)\n",
    "\n",
    "df"
   ]
  },
  {
   "cell_type": "code",
   "execution_count": null,
   "metadata": {},
   "outputs": [],
   "source": [
    "# remove outliers\n",
    "Q1 = df.quantile(0.25)\n",
    "Q3 = df.quantile(0.75)\n",
    "IQR = Q3 - Q1\n",
    "print(IQR)"
   ]
  },
  {
   "cell_type": "code",
   "execution_count": null,
   "metadata": {},
   "outputs": [],
   "source": [
    "z_cost_sf = np.abs(stats.zscore(df['cost/SF']))\n",
    "print(z_cost_sf)"
   ]
  },
  {
   "cell_type": "code",
   "execution_count": null,
   "metadata": {},
   "outputs": [],
   "source": [
    "threshold = 3\n",
    "outliers_cost_sf = np.where(z_cost_sf > threshold)\n",
    "print(outliers_cost_sf)"
   ]
  },
  {
   "cell_type": "code",
   "execution_count": null,
   "metadata": {},
   "outputs": [],
   "source": [
    "df_result = df.copy()\n",
    "for apt in outliers_cost_sf:\n",
    "    df_result.drop(apt, inplace=True)\n",
    "#     outliers.append(df.iloc[int(apt)])\n",
    "#     print(outliers)\n",
    "df_result\n",
    "\n",
    "# dropped 7 outliers"
   ]
  },
  {
   "cell_type": "code",
   "execution_count": null,
   "metadata": {},
   "outputs": [],
   "source": [
    "df_outliers = df.iloc[outliers_cost_sf]\n",
    "df_outliers"
   ]
  },
  {
   "cell_type": "code",
   "execution_count": null,
   "metadata": {},
   "outputs": [],
   "source": [
    "df = df_result.copy()\n",
    "df"
   ]
  },
  {
   "cell_type": "code",
   "execution_count": null,
   "metadata": {},
   "outputs": [],
   "source": [
    "y = df['mean_rent']\n",
    "sns.distplot(df['mean_rent'], bins=50, kde=False);"
   ]
  },
  {
   "cell_type": "code",
   "execution_count": null,
   "metadata": {
    "scrolled": true
   },
   "outputs": [],
   "source": [
    "# scatter plot showing no correlation betwee rent and walkscore\n",
    "sns.scatterplot(df['mean_rent'], df['walkscore'], alpha=.5)"
   ]
  },
  {
   "cell_type": "code",
   "execution_count": null,
   "metadata": {},
   "outputs": [],
   "source": [
    "# scatter plot maybe showing very weak negative correlation between unit area and walkscore\n",
    "sns.scatterplot(df['mean_area'], df['walkscore'], alpha=.5)"
   ]
  },
  {
   "cell_type": "code",
   "execution_count": null,
   "metadata": {},
   "outputs": [],
   "source": [
    "sns.scatterplot(df['cost/SF'], df['walkscore'], alpha=.5);"
   ]
  },
  {
   "cell_type": "code",
   "execution_count": null,
   "metadata": {},
   "outputs": [],
   "source": [
    "df['walkscore'] = pd.to_numeric(df['walkscore'])"
   ]
  },
  {
   "cell_type": "code",
   "execution_count": null,
   "metadata": {},
   "outputs": [],
   "source": [
    "type(df['walkscore'][0])"
   ]
  },
  {
   "cell_type": "code",
   "execution_count": null,
   "metadata": {},
   "outputs": [],
   "source": []
  },
  {
   "cell_type": "code",
   "execution_count": null,
   "metadata": {},
   "outputs": [],
   "source": []
  },
  {
   "cell_type": "code",
   "execution_count": null,
   "metadata": {},
   "outputs": [],
   "source": []
  },
  {
   "cell_type": "code",
   "execution_count": null,
   "metadata": {},
   "outputs": [],
   "source": [
    "df_walkscore = df[['mean_rent', 'mean_area', 'cost/SF', 'walkscore', 'walkscore_category', 'walkscore_category_num']]\n",
    "df_walkscore = df_walkscore.sort_values(by='walkscore_category')"
   ]
  },
  {
   "cell_type": "code",
   "execution_count": null,
   "metadata": {},
   "outputs": [],
   "source": [
    "df_walkscore"
   ]
  },
  {
   "cell_type": "code",
   "execution_count": null,
   "metadata": {},
   "outputs": [],
   "source": [
    "ws5_cost_sf = df[df['walkscore_category'] == \"Walker's Paradise\"]['cost/SF'] \n",
    "ws4_cost_sf = df[df['walkscore_category'] == \"Very Walkable\"]['cost/SF']\n",
    "ws3_cost_sf = df[df['walkscore_category'] == \"Somewhat Walkable\"]['cost/SF']\n",
    "ws2_cost_sf = df[df['walkscore_category'] == \"Car-Dependent_2\"]['cost/SF']\n",
    "ws1_cost_sf = df[df['walkscore_category'] == \"Car-Dependent_1\"]['cost/SF']"
   ]
  },
  {
   "cell_type": "code",
   "execution_count": null,
   "metadata": {},
   "outputs": [],
   "source": [
    "# find group means\n",
    "group_labels = [\"Walker's Paradise\", \"Very Walkable\", \"Somewhat Walkable\", \"Car-Dependent_2\", \"Car-Dependent_1\"]\n",
    "groups_data = [ws5_cost_sf, ws4_cost_sf, ws3_cost_sf, ws2_cost_sf, ws1_cost_sf]\n",
    "ws_dicts = {}\n",
    "\n",
    "for label, data in zip(group_labels, groups_data):\n",
    "    ws_dicts[label] = data\n",
    "    print('mean for ', label, ': ', np.mean(ws_dicts[label]))"
   ]
  },
  {
   "cell_type": "code",
   "execution_count": null,
   "metadata": {},
   "outputs": [],
   "source": [
    "# find group sizes\n",
    "for label, data in ws_dicts.items():\n",
    "    print('count for ', label, ': ', len(ws_dicts[label]))"
   ]
  },
  {
   "cell_type": "code",
   "execution_count": null,
   "metadata": {},
   "outputs": [],
   "source": [
    "# '3d' scatter plot\n",
    "plt.figure(figsize=(10, 10))\n",
    "sns.scatterplot(x='mean_rent', y='mean_area', data=df_walkscore, hue='walkscore_category');"
   ]
  },
  {
   "cell_type": "code",
   "execution_count": null,
   "metadata": {},
   "outputs": [],
   "source": [
    "# box plots\n",
    "plt.figure(figsize=(10, 5))\n",
    "sns.boxplot(x='cost/SF', \n",
    "            y='walkscore_category', \n",
    "            data=df_walkscore, \n",
    "            orient='h', \n",
    "            fliersize=3, \n",
    "            palette='colorblind', \n",
    "            showmeans=True, \n",
    "            meanprops={\"marker\":\"o\",\"markerfacecolor\":\"white\", \"markeredgecolor\": \"black\"});"
   ]
  },
  {
   "cell_type": "code",
   "execution_count": null,
   "metadata": {},
   "outputs": [],
   "source": [
    "# stats.f_oneway(ws5_cost_sf, ws4_cost_sf, ws3_cost_sf, ws2_cost_sf, ws1_cost_sf)\n",
    "# stats.f_oneway(ws5_cost_sf, ws4_cost_sf.append([ws3_cost_sf, ws2_cost_sf, ws1_cost_sf]))\n",
    "\n",
    "stats.f_oneway(ws5_cost_sf.append(ws4_cost_sf), ws3_cost_sf.append([ws2_cost_sf, ws1_cost_sf]))\n",
    "\n",
    "# stats.f_oneway(ws5_cost_sf.append([ws4_cost_sf, ws3_cost_sf]), ws2_cost_sf.append(ws1_cost_sf))\n",
    "# stats.f_oneway(ws5_cost_sf.append([ws4_cost_sf, ws3_cost_sf, ws2_cost_sf]), ws1_cost_sf)"
   ]
  },
  {
   "cell_type": "code",
   "execution_count": null,
   "metadata": {},
   "outputs": [],
   "source": [
    "stats.ttest_ind(ws5_cost_sf.append(ws4_cost_sf), ws3_cost_sf.append([ws2_cost_sf, ws1_cost_sf]))"
   ]
  },
  {
   "cell_type": "markdown",
   "metadata": {},
   "source": [
    "## p-value is much less than the significance level of 5%. We reject the null hypothesis. "
   ]
  },
  {
   "cell_type": "code",
   "execution_count": null,
   "metadata": {},
   "outputs": [],
   "source": []
  }
 ],
 "metadata": {
  "kernelspec": {
   "display_name": "Python 3",
   "language": "python",
   "name": "python3"
  },
  "language_info": {
   "codemirror_mode": {
    "name": "ipython",
    "version": 3
   },
   "file_extension": ".py",
   "mimetype": "text/x-python",
   "name": "python",
   "nbconvert_exporter": "python",
   "pygments_lexer": "ipython3",
   "version": "3.7.4"
  }
 },
 "nbformat": 4,
 "nbformat_minor": 2
}
